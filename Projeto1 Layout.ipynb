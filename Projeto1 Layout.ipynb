{
 "cells": [
  {
   "cell_type": "code",
   "execution_count": null,
   "metadata": {
    "collapsed": true
   },
   "outputs": [],
   "source": []
  },
  {
   "cell_type": "markdown",
   "metadata": {},
   "source": [
    "## Leonardo Bhering Gonçalves\n",
    "___"
   ]
  },
  {
   "cell_type": "markdown",
   "metadata": {},
   "source": [
    "## COMO O BRASILEIRO UTILIZA A INTERNET\n"
   ]
  },
  {
   "cell_type": "markdown",
   "metadata": {},
   "source": [
    "___\n",
    "## Introdução\n",
    "\n",
    "Neste projeto você terá a oportunidade de conhecer um pouco mais sobre de qual maneira o brasileiro, que recebe até 2 salários mínimos(R$937,00), utiliza a internet e como ele está tendendo a usa-la.\n",
    "Farei uma análise, utilizando os dados do IBGE de 2013 a 2015, da evolução do uso de internet através de três tipos de acesso (por banda larga, por conexão discada e por 3g/4g). E por fim disponibilazei gráficos que mostrarão a variação da porcentagem, do total de pessoas, que utilizam tal tipo de acesso.\n",
    "A pergunta, então, a ser respondida é: \"Como foi a evolução do uso de internet por banda larga, por \n",
    "conexão discada e por 3g/4g pelas pessoas que recebem até 2 salários mínimos?\"\n"
   ]
  },
  {
   "cell_type": "markdown",
   "metadata": {},
   "source": [
    "___\n",
    "## Análise e Resultados"
   ]
  },
  {
   "cell_type": "code",
   "execution_count": 2,
   "metadata": {
    "collapsed": true
   },
   "outputs": [],
   "source": [
    "%matplotlib inline\n",
    "import pandas as pd\n",
    "import matplotlib.pyplot as plt\n",
    "import numpy as np\n",
    "import os\n",
    "import matplotlib\n",
    "matplotlib.style.use('ggplot')"
   ]
  },
  {
   "cell_type": "code",
   "execution_count": 3,
   "metadata": {},
   "outputs": [
    {
     "name": "stdout",
     "output_type": "stream",
     "text": [
      "Esperamos trabalhar no diretório\n",
      "C:\\Users\\Leonardo\\Documents\\INSPER\\Ciencia_Dados\\projeto1\\Ciencia-dos-dados-master\n"
     ]
    }
   ],
   "source": [
    "print('Esperamos trabalhar no diretório')\n",
    "print(os.getcwd())"
   ]
  },
  {
   "cell_type": "code",
   "execution_count": 37,
   "metadata": {
    "collapsed": true
   },
   "outputs": [],
   "source": [
    "#Se usar o arquivo descompactado\n",
    "#pd.read_csv('DOM2015.csv',sep=',')\n",
    "\n",
    "#Se usar o arquivo compactado como está no dropbox púbico\n",
    "dados_2015=pd.read_csv('DOM2015csv.zip', compression='zip', header=0, sep=',', quotechar='\"')\n",
    "dados_2014=pd.read_csv('DOM2014csv.zip', compression='zip', header=0, sep=',', quotechar='\"')\n",
    "dados_2013=pd.read_csv('DOM2013csv.zip', compression='zip', header=0, sep=',', quotechar='\"')"
   ]
  },
  {
   "cell_type": "code",
   "execution_count": 38,
   "metadata": {},
   "outputs": [
    {
     "name": "stdout",
     "output_type": "stream",
     "text": [
      "Acesso a Internet por Banda Larga em 2013\n"
     ]
    },
    {
     "data": {
      "text/html": [
       "<div>\n",
       "<table border=\"1\" class=\"dataframe\">\n",
       "  <thead>\n",
       "    <tr style=\"text-align: right;\">\n",
       "      <th></th>\n",
       "      <th>Acesso a Internet por Banda Larga</th>\n",
       "      <th>Rendimento mensal domiciliar per capita</th>\n",
       "    </tr>\n",
       "  </thead>\n",
       "  <tbody>\n",
       "    <tr>\n",
       "      <th>98834</th>\n",
       "      <td>Sim</td>\n",
       "      <td>1869.0</td>\n",
       "    </tr>\n",
       "    <tr>\n",
       "      <th>3667</th>\n",
       "      <td>Sim</td>\n",
       "      <td>1869.0</td>\n",
       "    </tr>\n",
       "    <tr>\n",
       "      <th>145524</th>\n",
       "      <td>Sim</td>\n",
       "      <td>1869.0</td>\n",
       "    </tr>\n",
       "    <tr>\n",
       "      <th>127325</th>\n",
       "      <td>Sim</td>\n",
       "      <td>1869.0</td>\n",
       "    </tr>\n",
       "    <tr>\n",
       "      <th>140768</th>\n",
       "      <td>Sim</td>\n",
       "      <td>1870.0</td>\n",
       "    </tr>\n",
       "    <tr>\n",
       "      <th>83683</th>\n",
       "      <td>Sim</td>\n",
       "      <td>1871.0</td>\n",
       "    </tr>\n",
       "    <tr>\n",
       "      <th>92049</th>\n",
       "      <td>Sim</td>\n",
       "      <td>1871.0</td>\n",
       "    </tr>\n",
       "    <tr>\n",
       "      <th>129433</th>\n",
       "      <td>Sim</td>\n",
       "      <td>1871.0</td>\n",
       "    </tr>\n",
       "    <tr>\n",
       "      <th>54924</th>\n",
       "      <td>Sim</td>\n",
       "      <td>1872.0</td>\n",
       "    </tr>\n",
       "    <tr>\n",
       "      <th>57087</th>\n",
       "      <td>Sim</td>\n",
       "      <td>1872.0</td>\n",
       "    </tr>\n",
       "  </tbody>\n",
       "</table>\n",
       "</div>"
      ],
      "text/plain": [
       "       Acesso a Internet por Banda Larga  \\\n",
       "98834                                Sim   \n",
       "3667                                 Sim   \n",
       "145524                               Sim   \n",
       "127325                               Sim   \n",
       "140768                               Sim   \n",
       "83683                                Sim   \n",
       "92049                                Sim   \n",
       "129433                               Sim   \n",
       "54924                                Sim   \n",
       "57087                                Sim   \n",
       "\n",
       "        Rendimento mensal domiciliar per capita  \n",
       "98834                                    1869.0  \n",
       "3667                                     1869.0  \n",
       "145524                                   1869.0  \n",
       "127325                                   1869.0  \n",
       "140768                                   1870.0  \n",
       "83683                                    1871.0  \n",
       "92049                                    1871.0  \n",
       "129433                                   1871.0  \n",
       "54924                                    1872.0  \n",
       "57087                                    1872.0  "
      ]
     },
     "execution_count": 38,
     "metadata": {},
     "output_type": "execute_result"
    }
   ],
   "source": [
    "dados_2013.V02426 = dados_2013.V02426.astype('category')\n",
    "dados_2013.V02426.cat.categories = ('Sim','Não')\n",
    "tab_banda = dados_2013.iloc[1:,[57,77]]\n",
    "tb = tab_banda.rename(columns={\"V02426\":\"Acesso a Internet por Banda Larga\"})\n",
    "DADOSOFF=tb.dropna(0,how='any')\n",
    "dadosoff=DADOSOFF[DADOSOFF.V4621<1874]\n",
    "tb = dadosoff.rename(columns={\"V4621\":\"Rendimento mensal domiciliar per capita\"})\n",
    "dados_13=tb.dropna(0,how='any')\n",
    "dfc = dados_2013.V02426.value_counts()\n",
    "print(\"Acesso a Internet por Banda Larga em 2013\")\n",
    "dados_13.sort_values(by=\"Rendimento mensal domiciliar per capita\").tail(10)\n"
   ]
  },
  {
   "cell_type": "markdown",
   "metadata": {},
   "source": [
    "Esta é a tabela com a qual trabalharei. Na tabela, podemos observar o código da pessoa, se ela possui acesso a internet por banda larga e o rendimento mensal domiciliar per capita. A tabela esta organizada em ordem crescente do rendimento mensal domiciliar, porém mostrando a parte de baixo da tabela. \n",
    "As próximas tabelas seguem o mesmo padrão, mudando apenas o tipo de acesso a internet ou o ano."
   ]
  },
  {
   "cell_type": "code",
   "execution_count": 40,
   "metadata": {},
   "outputs": [
    {
     "name": "stdout",
     "output_type": "stream",
     "text": [
      "Acesso a Internet por Banda Larga em 2014\n"
     ]
    },
    {
     "data": {
      "text/html": [
       "<div>\n",
       "<table border=\"1\" class=\"dataframe\">\n",
       "  <thead>\n",
       "    <tr style=\"text-align: right;\">\n",
       "      <th></th>\n",
       "      <th>Acesso a Internet por Banda Larga</th>\n",
       "      <th>Rendimento mensal domiciliar per capita</th>\n",
       "    </tr>\n",
       "  </thead>\n",
       "  <tbody>\n",
       "    <tr>\n",
       "      <th>121960</th>\n",
       "      <td>Sim</td>\n",
       "      <td>1866.0</td>\n",
       "    </tr>\n",
       "    <tr>\n",
       "      <th>109906</th>\n",
       "      <td>Sim</td>\n",
       "      <td>1866.0</td>\n",
       "    </tr>\n",
       "    <tr>\n",
       "      <th>4995</th>\n",
       "      <td>Não</td>\n",
       "      <td>1866.0</td>\n",
       "    </tr>\n",
       "    <tr>\n",
       "      <th>26287</th>\n",
       "      <td>Sim</td>\n",
       "      <td>1867.0</td>\n",
       "    </tr>\n",
       "    <tr>\n",
       "      <th>78089</th>\n",
       "      <td>Sim</td>\n",
       "      <td>1869.0</td>\n",
       "    </tr>\n",
       "    <tr>\n",
       "      <th>21100</th>\n",
       "      <td>Sim</td>\n",
       "      <td>1870.0</td>\n",
       "    </tr>\n",
       "    <tr>\n",
       "      <th>116572</th>\n",
       "      <td>Sim</td>\n",
       "      <td>1870.0</td>\n",
       "    </tr>\n",
       "    <tr>\n",
       "      <th>45852</th>\n",
       "      <td>Sim</td>\n",
       "      <td>1870.0</td>\n",
       "    </tr>\n",
       "    <tr>\n",
       "      <th>125463</th>\n",
       "      <td>Sim</td>\n",
       "      <td>1870.0</td>\n",
       "    </tr>\n",
       "    <tr>\n",
       "      <th>53398</th>\n",
       "      <td>Sim</td>\n",
       "      <td>1872.0</td>\n",
       "    </tr>\n",
       "  </tbody>\n",
       "</table>\n",
       "</div>"
      ],
      "text/plain": [
       "       Acesso a Internet por Banda Larga  \\\n",
       "121960                               Sim   \n",
       "109906                               Sim   \n",
       "4995                                 Não   \n",
       "26287                                Sim   \n",
       "78089                                Sim   \n",
       "21100                                Sim   \n",
       "116572                               Sim   \n",
       "45852                                Sim   \n",
       "125463                               Sim   \n",
       "53398                                Sim   \n",
       "\n",
       "        Rendimento mensal domiciliar per capita  \n",
       "121960                                   1866.0  \n",
       "109906                                   1866.0  \n",
       "4995                                     1866.0  \n",
       "26287                                    1867.0  \n",
       "78089                                    1869.0  \n",
       "21100                                    1870.0  \n",
       "116572                                   1870.0  \n",
       "45852                                    1870.0  \n",
       "125463                                   1870.0  \n",
       "53398                                    1872.0  "
      ]
     },
     "execution_count": 40,
     "metadata": {},
     "output_type": "execute_result"
    }
   ],
   "source": [
    "dados_2014.V02426 = dados_2014.V02426.astype('category')\n",
    "dados_2014.V02426.cat.categories = ('Sim','Não')\n",
    "tab_banda = dados_2014.iloc[1:,[57,77]]\n",
    "tb = tab_banda.rename(columns={\"V02426\":\"Acesso a Internet por Banda Larga\"})\n",
    "DADOSOFF=tb.dropna(0,how='any')\n",
    "dadosoff=DADOSOFF[DADOSOFF.V4621<1874]\n",
    "tb = dadosoff.rename(columns={\"V4621\":\"Rendimento mensal domiciliar per capita\"})\n",
    "dados_14=tb.dropna(0,how='any')\n",
    "dfc2 = dados_2014.V02426.value_counts()\n",
    "print(\"Acesso a Internet por Banda Larga em 2014\")\n",
    "dados_14.sort_values(by=\"Rendimento mensal domiciliar per capita\").tail(10)"
   ]
  },
  {
   "cell_type": "code",
   "execution_count": 41,
   "metadata": {},
   "outputs": [
    {
     "name": "stdout",
     "output_type": "stream",
     "text": [
      "Acesso a Internet por Banda Larga em 2015\n"
     ]
    },
    {
     "data": {
      "text/html": [
       "<div>\n",
       "<table border=\"1\" class=\"dataframe\">\n",
       "  <thead>\n",
       "    <tr style=\"text-align: right;\">\n",
       "      <th></th>\n",
       "      <th>Acesso a Internet por Banda Larga</th>\n",
       "      <th>Rendimento mensal domiciliar per capita</th>\n",
       "    </tr>\n",
       "  </thead>\n",
       "  <tbody>\n",
       "    <tr>\n",
       "      <th>70892</th>\n",
       "      <td>Sim</td>\n",
       "      <td>1867.0</td>\n",
       "    </tr>\n",
       "    <tr>\n",
       "      <th>97435</th>\n",
       "      <td>Sim</td>\n",
       "      <td>1868.0</td>\n",
       "    </tr>\n",
       "    <tr>\n",
       "      <th>72331</th>\n",
       "      <td>Não</td>\n",
       "      <td>1869.0</td>\n",
       "    </tr>\n",
       "    <tr>\n",
       "      <th>123050</th>\n",
       "      <td>Sim</td>\n",
       "      <td>1869.0</td>\n",
       "    </tr>\n",
       "    <tr>\n",
       "      <th>32232</th>\n",
       "      <td>Sim</td>\n",
       "      <td>1870.0</td>\n",
       "    </tr>\n",
       "    <tr>\n",
       "      <th>124061</th>\n",
       "      <td>Sim</td>\n",
       "      <td>1870.0</td>\n",
       "    </tr>\n",
       "    <tr>\n",
       "      <th>121652</th>\n",
       "      <td>Sim</td>\n",
       "      <td>1872.0</td>\n",
       "    </tr>\n",
       "    <tr>\n",
       "      <th>91219</th>\n",
       "      <td>Sim</td>\n",
       "      <td>1872.0</td>\n",
       "    </tr>\n",
       "    <tr>\n",
       "      <th>24498</th>\n",
       "      <td>Não</td>\n",
       "      <td>1872.0</td>\n",
       "    </tr>\n",
       "    <tr>\n",
       "      <th>56742</th>\n",
       "      <td>Sim</td>\n",
       "      <td>1873.0</td>\n",
       "    </tr>\n",
       "  </tbody>\n",
       "</table>\n",
       "</div>"
      ],
      "text/plain": [
       "       Acesso a Internet por Banda Larga  \\\n",
       "70892                                Sim   \n",
       "97435                                Sim   \n",
       "72331                                Não   \n",
       "123050                               Sim   \n",
       "32232                                Sim   \n",
       "124061                               Sim   \n",
       "121652                               Sim   \n",
       "91219                                Sim   \n",
       "24498                                Não   \n",
       "56742                                Sim   \n",
       "\n",
       "        Rendimento mensal domiciliar per capita  \n",
       "70892                                    1867.0  \n",
       "97435                                    1868.0  \n",
       "72331                                    1869.0  \n",
       "123050                                   1869.0  \n",
       "32232                                    1870.0  \n",
       "124061                                   1870.0  \n",
       "121652                                   1872.0  \n",
       "91219                                    1872.0  \n",
       "24498                                    1872.0  \n",
       "56742                                    1873.0  "
      ]
     },
     "execution_count": 41,
     "metadata": {},
     "output_type": "execute_result"
    }
   ],
   "source": [
    "dados_2015.V02426 = dados_2015.V02426.astype('category')\n",
    "dados_2015.V02426.cat.categories = ('Sim','Não')\n",
    "tab_banda = dados_2015.iloc[1:,[57,77]]\n",
    "tb = tab_banda.rename(columns={\"V02426\":\"Acesso a Internet por Banda Larga\"})\n",
    "DADOSOFF=tb.dropna(0,how='any')\n",
    "dadosoff=DADOSOFF[DADOSOFF.V4621<1874]\n",
    "tb = dadosoff.rename(columns={\"V4621\":\"Rendimento mensal domiciliar per capita\"})\n",
    "dados_15=tb.dropna(0,how='any')\n",
    "dfc3 = dados_2015.V02426.value_counts()\n",
    "print(\"Acesso a Internet por Banda Larga em 2015\")\n",
    "dados_15.sort_values(by=\"Rendimento mensal domiciliar per capita\").tail(10)"
   ]
  },
  {
   "cell_type": "code",
   "execution_count": 24,
   "metadata": {},
   "outputs": [
    {
     "data": {
      "image/png": "[encoded data removed]",
      "text/plain": [
       "<matplotlib.figure.Figure at 0x1ff81835ef0>"
      ]
     },
     "metadata": {},
     "output_type": "display_data"
    }
   ],
   "source": [
    "fig = plt.figure(figsize=(15, 5))\n",
    "plt.subplot(131)\n",
    "dfc.plot(kind='pie', colors=('blue', 'red'), autopct=\"%0.2f\",legend=False, title='Acesso a Internet por Banda Larga 2013(%)')\n",
    "plt.ylabel('')\n",
    "plt.xlabel('')\n",
    "\n",
    "plt.subplot(132)\n",
    "dfc2.plot(kind='pie', colors=('blue', 'red'), autopct=\"%0.2f\",legend=False, title='Acesso a Internet por Banda Larga 2014(%)')\n",
    "plt.ylabel('')\n",
    "plt.xlabel('')\n",
    "\n",
    "plt.subplot(133)\n",
    "dfc3.plot(kind='pie', colors=('blue', 'red'), autopct=\"%0.2f\",legend=False, title='Acesso a Internet por Banda Larga 2015(%)')\n",
    "plt.ylabel('')\n",
    "plt.xlabel('')\n",
    "\n",
    "plt.tight_layout()\n",
    "plt.show()"
   ]
  },
  {
   "cell_type": "markdown",
   "metadata": {},
   "source": [
    "Analisando os gráficos acima, podemos perceber que, por mais que uma grande parte dessa população pobre ainda utilize a Banda Larga, houve uma diminuição diminuição na porcentagem de pessoas que utilizam o serviço (74,65% em 2013 para 69,59% em 2015). "
   ]
  },
  {
   "cell_type": "code",
   "execution_count": 42,
   "metadata": {},
   "outputs": [
    {
     "name": "stdout",
     "output_type": "stream",
     "text": [
      "Acesso a Internet por Conexão Discada por Linha Telefônica em 2013\n"
     ]
    },
    {
     "data": {
      "text/html": [
       "<div>\n",
       "<table border=\"1\" class=\"dataframe\">\n",
       "  <thead>\n",
       "    <tr style=\"text-align: right;\">\n",
       "      <th></th>\n",
       "      <th>Acesso a Internet por Conexão Discada por Linha Telefônica</th>\n",
       "      <th>Rendimento mensal domiciliar per capita</th>\n",
       "    </tr>\n",
       "  </thead>\n",
       "  <tbody>\n",
       "    <tr>\n",
       "      <th>98834</th>\n",
       "      <td>Não</td>\n",
       "      <td>1869.0</td>\n",
       "    </tr>\n",
       "    <tr>\n",
       "      <th>3667</th>\n",
       "      <td>Não</td>\n",
       "      <td>1869.0</td>\n",
       "    </tr>\n",
       "    <tr>\n",
       "      <th>145524</th>\n",
       "      <td>Não</td>\n",
       "      <td>1869.0</td>\n",
       "    </tr>\n",
       "    <tr>\n",
       "      <th>127325</th>\n",
       "      <td>Não</td>\n",
       "      <td>1869.0</td>\n",
       "    </tr>\n",
       "    <tr>\n",
       "      <th>140768</th>\n",
       "      <td>Não</td>\n",
       "      <td>1870.0</td>\n",
       "    </tr>\n",
       "    <tr>\n",
       "      <th>83683</th>\n",
       "      <td>Não</td>\n",
       "      <td>1871.0</td>\n",
       "    </tr>\n",
       "    <tr>\n",
       "      <th>92049</th>\n",
       "      <td>Não</td>\n",
       "      <td>1871.0</td>\n",
       "    </tr>\n",
       "    <tr>\n",
       "      <th>129433</th>\n",
       "      <td>Não</td>\n",
       "      <td>1871.0</td>\n",
       "    </tr>\n",
       "    <tr>\n",
       "      <th>54924</th>\n",
       "      <td>Não</td>\n",
       "      <td>1872.0</td>\n",
       "    </tr>\n",
       "    <tr>\n",
       "      <th>57087</th>\n",
       "      <td>Não</td>\n",
       "      <td>1872.0</td>\n",
       "    </tr>\n",
       "  </tbody>\n",
       "</table>\n",
       "</div>"
      ],
      "text/plain": [
       "       Acesso a Internet por Conexão Discada por Linha Telefônica  \\\n",
       "98834                                                 Não           \n",
       "3667                                                  Não           \n",
       "145524                                                Não           \n",
       "127325                                                Não           \n",
       "140768                                                Não           \n",
       "83683                                                 Não           \n",
       "92049                                                 Não           \n",
       "129433                                                Não           \n",
       "54924                                                 Não           \n",
       "57087                                                 Não           \n",
       "\n",
       "        Rendimento mensal domiciliar per capita  \n",
       "98834                                    1869.0  \n",
       "3667                                     1869.0  \n",
       "145524                                   1869.0  \n",
       "127325                                   1869.0  \n",
       "140768                                   1870.0  \n",
       "83683                                    1871.0  \n",
       "92049                                    1871.0  \n",
       "129433                                   1871.0  \n",
       "54924                                    1872.0  \n",
       "57087                                    1872.0  "
      ]
     },
     "execution_count": 42,
     "metadata": {},
     "output_type": "execute_result"
    }
   ],
   "source": [
    "dados_2013.V02425 = dados_2013.V02425.astype('category')\n",
    "dados_2013.V02425.cat.categories = ('Sim','Não')\n",
    "tab_banda = dados_2013.iloc[1:,[56,77]]\n",
    "tb = tab_banda.rename(columns={\"V02425\":\"Acesso a Internet por Conexão Discada por Linha Telefônica\"})\n",
    "DADOSOFF=tb.dropna(0,how='any')\n",
    "dadosoff=DADOSOFF[DADOSOFF.V4621<1874]\n",
    "tb = dadosoff.rename(columns={\"V4621\":\"Rendimento mensal domiciliar per capita\"})\n",
    "dados_13=tb.dropna(0,how='any')\n",
    "dfc = dados_2013.V02425.value_counts()\n",
    "print(\"Acesso a Internet por Conexão Discada por Linha Telefônica em 2013\")\n",
    "dados_13.sort_values(by=\"Rendimento mensal domiciliar per capita\").tail(10)"
   ]
  },
  {
   "cell_type": "code",
   "execution_count": 43,
   "metadata": {},
   "outputs": [
    {
     "name": "stdout",
     "output_type": "stream",
     "text": [
      "Acesso a Internet por Conexão Discada por Linha Telefônica em 2014\n"
     ]
    },
    {
     "data": {
      "text/html": [
       "<div>\n",
       "<table border=\"1\" class=\"dataframe\">\n",
       "  <thead>\n",
       "    <tr style=\"text-align: right;\">\n",
       "      <th></th>\n",
       "      <th>Acesso a Internet por Conexão Discada por Linha Telefônica</th>\n",
       "      <th>Rendimento mensal domiciliar per capita</th>\n",
       "    </tr>\n",
       "  </thead>\n",
       "  <tbody>\n",
       "    <tr>\n",
       "      <th>121960</th>\n",
       "      <td>Não</td>\n",
       "      <td>1866.0</td>\n",
       "    </tr>\n",
       "    <tr>\n",
       "      <th>109906</th>\n",
       "      <td>Sim</td>\n",
       "      <td>1866.0</td>\n",
       "    </tr>\n",
       "    <tr>\n",
       "      <th>4995</th>\n",
       "      <td>Não</td>\n",
       "      <td>1866.0</td>\n",
       "    </tr>\n",
       "    <tr>\n",
       "      <th>26287</th>\n",
       "      <td>Não</td>\n",
       "      <td>1867.0</td>\n",
       "    </tr>\n",
       "    <tr>\n",
       "      <th>78089</th>\n",
       "      <td>Não</td>\n",
       "      <td>1869.0</td>\n",
       "    </tr>\n",
       "    <tr>\n",
       "      <th>21100</th>\n",
       "      <td>Não</td>\n",
       "      <td>1870.0</td>\n",
       "    </tr>\n",
       "    <tr>\n",
       "      <th>116572</th>\n",
       "      <td>Não</td>\n",
       "      <td>1870.0</td>\n",
       "    </tr>\n",
       "    <tr>\n",
       "      <th>45852</th>\n",
       "      <td>Não</td>\n",
       "      <td>1870.0</td>\n",
       "    </tr>\n",
       "    <tr>\n",
       "      <th>125463</th>\n",
       "      <td>Não</td>\n",
       "      <td>1870.0</td>\n",
       "    </tr>\n",
       "    <tr>\n",
       "      <th>53398</th>\n",
       "      <td>Não</td>\n",
       "      <td>1872.0</td>\n",
       "    </tr>\n",
       "  </tbody>\n",
       "</table>\n",
       "</div>"
      ],
      "text/plain": [
       "       Acesso a Internet por Conexão Discada por Linha Telefônica  \\\n",
       "121960                                                Não           \n",
       "109906                                                Sim           \n",
       "4995                                                  Não           \n",
       "26287                                                 Não           \n",
       "78089                                                 Não           \n",
       "21100                                                 Não           \n",
       "116572                                                Não           \n",
       "45852                                                 Não           \n",
       "125463                                                Não           \n",
       "53398                                                 Não           \n",
       "\n",
       "        Rendimento mensal domiciliar per capita  \n",
       "121960                                   1866.0  \n",
       "109906                                   1866.0  \n",
       "4995                                     1866.0  \n",
       "26287                                    1867.0  \n",
       "78089                                    1869.0  \n",
       "21100                                    1870.0  \n",
       "116572                                   1870.0  \n",
       "45852                                    1870.0  \n",
       "125463                                   1870.0  \n",
       "53398                                    1872.0  "
      ]
     },
     "execution_count": 43,
     "metadata": {},
     "output_type": "execute_result"
    }
   ],
   "source": [
    "dados_2014.V02425 = dados_2014.V02425.astype('category')\n",
    "dados_2014.V02425.cat.categories = ('Sim','Não')\n",
    "tab_banda = dados_2014.iloc[1:,[56,77]]\n",
    "tb = tab_banda.rename(columns={\"V02425\":\"Acesso a Internet por Conexão Discada por Linha Telefônica\"})\n",
    "DADOSOFF=tb.dropna(0,how='any')\n",
    "dadosoff=DADOSOFF[DADOSOFF.V4621<1874]\n",
    "tb = dadosoff.rename(columns={\"V4621\":\"Rendimento mensal domiciliar per capita\"})\n",
    "dados_14=tb.dropna(0,how='any')\n",
    "dfc2 = dados_2014.V02425.value_counts()\n",
    "print(\"Acesso a Internet por Conexão Discada por Linha Telefônica em 2014\")\n",
    "dados_14.sort_values(by=\"Rendimento mensal domiciliar per capita\").tail(10)"
   ]
  },
  {
   "cell_type": "code",
   "execution_count": 44,
   "metadata": {},
   "outputs": [
    {
     "name": "stdout",
     "output_type": "stream",
     "text": [
      "Acesso a Internet por Conexão Discada por Linha Telefônica em 2015\n"
     ]
    },
    {
     "data": {
      "text/html": [
       "<div>\n",
       "<table border=\"1\" class=\"dataframe\">\n",
       "  <thead>\n",
       "    <tr style=\"text-align: right;\">\n",
       "      <th></th>\n",
       "      <th>Acesso a Internet por Conexão Discada por Linha Telefônica</th>\n",
       "      <th>Rendimento mensal domiciliar per capita</th>\n",
       "    </tr>\n",
       "  </thead>\n",
       "  <tbody>\n",
       "    <tr>\n",
       "      <th>70892</th>\n",
       "      <td>Não</td>\n",
       "      <td>1867.0</td>\n",
       "    </tr>\n",
       "    <tr>\n",
       "      <th>97435</th>\n",
       "      <td>Não</td>\n",
       "      <td>1868.0</td>\n",
       "    </tr>\n",
       "    <tr>\n",
       "      <th>72331</th>\n",
       "      <td>Sim</td>\n",
       "      <td>1869.0</td>\n",
       "    </tr>\n",
       "    <tr>\n",
       "      <th>123050</th>\n",
       "      <td>Não</td>\n",
       "      <td>1869.0</td>\n",
       "    </tr>\n",
       "    <tr>\n",
       "      <th>32232</th>\n",
       "      <td>Não</td>\n",
       "      <td>1870.0</td>\n",
       "    </tr>\n",
       "    <tr>\n",
       "      <th>124061</th>\n",
       "      <td>Não</td>\n",
       "      <td>1870.0</td>\n",
       "    </tr>\n",
       "    <tr>\n",
       "      <th>121652</th>\n",
       "      <td>Não</td>\n",
       "      <td>1872.0</td>\n",
       "    </tr>\n",
       "    <tr>\n",
       "      <th>91219</th>\n",
       "      <td>Não</td>\n",
       "      <td>1872.0</td>\n",
       "    </tr>\n",
       "    <tr>\n",
       "      <th>24498</th>\n",
       "      <td>Não</td>\n",
       "      <td>1872.0</td>\n",
       "    </tr>\n",
       "    <tr>\n",
       "      <th>56742</th>\n",
       "      <td>Não</td>\n",
       "      <td>1873.0</td>\n",
       "    </tr>\n",
       "  </tbody>\n",
       "</table>\n",
       "</div>"
      ],
      "text/plain": [
       "       Acesso a Internet por Conexão Discada por Linha Telefônica  \\\n",
       "70892                                                 Não           \n",
       "97435                                                 Não           \n",
       "72331                                                 Sim           \n",
       "123050                                                Não           \n",
       "32232                                                 Não           \n",
       "124061                                                Não           \n",
       "121652                                                Não           \n",
       "91219                                                 Não           \n",
       "24498                                                 Não           \n",
       "56742                                                 Não           \n",
       "\n",
       "        Rendimento mensal domiciliar per capita  \n",
       "70892                                    1867.0  \n",
       "97435                                    1868.0  \n",
       "72331                                    1869.0  \n",
       "123050                                   1869.0  \n",
       "32232                                    1870.0  \n",
       "124061                                   1870.0  \n",
       "121652                                   1872.0  \n",
       "91219                                    1872.0  \n",
       "24498                                    1872.0  \n",
       "56742                                    1873.0  "
      ]
     },
     "execution_count": 44,
     "metadata": {},
     "output_type": "execute_result"
    }
   ],
   "source": [
    "dados_2015.V02425 = dados_2015.V02425.astype('category')\n",
    "dados_2015.V02425.cat.categories = ('Sim','Não')\n",
    "tab_banda = dados_2015.iloc[1:,[56,77]]\n",
    "tb = tab_banda.rename(columns={\"V02425\":\"Acesso a Internet por Conexão Discada por Linha Telefônica\"})\n",
    "DADOSOFF=tb.dropna(0,how='any')\n",
    "dadosoff=DADOSOFF[DADOSOFF.V4621<1874]\n",
    "tb = dadosoff.rename(columns={\"V4621\":\"Rendimento mensal domiciliar per capita\"})\n",
    "dados_15=tb.dropna(0,how='any')\n",
    "dfc3 = dados_2015.V02425.value_counts()\n",
    "print(\"Acesso a Internet por Conexão Discada por Linha Telefônica em 2015\")\n",
    "dados_15.sort_values(by=\"Rendimento mensal domiciliar per capita\").tail(10)"
   ]
  },
  {
   "cell_type": "code",
   "execution_count": 30,
   "metadata": {},
   "outputs": [
    {
     "data": {
      "image/png": "[encoded data removed]",
      "text/plain": [
       "<matplotlib.figure.Figure at 0x1ff8162d6d8>"
      ]
     },
     "metadata": {},
     "output_type": "display_data"
    }
   ],
   "source": [
    "fig = plt.figure(figsize=(15, 5))\n",
    "plt.subplot(131)\n",
    "dfc.plot(kind='pie', colors=('red', 'blue'), autopct=\"%0.2f\",legend=False, title='Acesso a Internet por Conexão Discada 2013(%)')\n",
    "plt.ylabel('')\n",
    "plt.xlabel('')\n",
    "\n",
    "plt.subplot(132)\n",
    "dfc2.plot(kind='pie', colors=('red', 'blue'), autopct=\"%0.2f\",legend=False, title='Acesso a Internet por Conexão Discada 2014(%)')\n",
    "plt.ylabel('')\n",
    "plt.xlabel('')\n",
    "\n",
    "plt.subplot(133)\n",
    "dfc3.plot(kind='pie', colors=('red', 'blue'), autopct=\"%0.2f\",legend=False, title='Acesso a Internet por Conexão Discada 2015(%)')\n",
    "plt.ylabel('')\n",
    "plt.xlabel('')\n",
    "\n",
    "plt.tight_layout()\n",
    "plt.show()"
   ]
  },
  {
   "cell_type": "markdown",
   "metadata": {},
   "source": [
    "Os gráficos acima mostram que é pouca a população que utiliza a internet por conexão discada, porém não houve uma queda constante na porcentagem de pessoas que a utilizam. De 2013 para 2014, essa porcentagem caiu de 4,53% para 2,8%. Porém, de 2014 para 2015 houve um aumento nesta porcentagem que passou a ser 3,11% do total de pessoas que recebem menos de 2 salários mínimos."
   ]
  },
  {
   "cell_type": "code",
   "execution_count": 45,
   "metadata": {},
   "outputs": [
    {
     "name": "stdout",
     "output_type": "stream",
     "text": [
      "Acesso a Internet por Sinal de Rede Celular 3G ou 4G em 2013\n"
     ]
    },
    {
     "data": {
      "text/html": [
       "<div>\n",
       "<table border=\"1\" class=\"dataframe\">\n",
       "  <thead>\n",
       "    <tr style=\"text-align: right;\">\n",
       "      <th></th>\n",
       "      <th>Acesso a Internet por Sinal de Rede Celular 3G ou 4G</th>\n",
       "      <th>Rendimento mensal domiciliar per capita</th>\n",
       "    </tr>\n",
       "  </thead>\n",
       "  <tbody>\n",
       "    <tr>\n",
       "      <th>98834</th>\n",
       "      <td>Sim</td>\n",
       "      <td>1869.0</td>\n",
       "    </tr>\n",
       "    <tr>\n",
       "      <th>3667</th>\n",
       "      <td>Sim</td>\n",
       "      <td>1869.0</td>\n",
       "    </tr>\n",
       "    <tr>\n",
       "      <th>145524</th>\n",
       "      <td>Não</td>\n",
       "      <td>1869.0</td>\n",
       "    </tr>\n",
       "    <tr>\n",
       "      <th>127325</th>\n",
       "      <td>Não</td>\n",
       "      <td>1869.0</td>\n",
       "    </tr>\n",
       "    <tr>\n",
       "      <th>140768</th>\n",
       "      <td>Sim</td>\n",
       "      <td>1870.0</td>\n",
       "    </tr>\n",
       "    <tr>\n",
       "      <th>83683</th>\n",
       "      <td>Não</td>\n",
       "      <td>1871.0</td>\n",
       "    </tr>\n",
       "    <tr>\n",
       "      <th>92049</th>\n",
       "      <td>Não</td>\n",
       "      <td>1871.0</td>\n",
       "    </tr>\n",
       "    <tr>\n",
       "      <th>129433</th>\n",
       "      <td>Não</td>\n",
       "      <td>1871.0</td>\n",
       "    </tr>\n",
       "    <tr>\n",
       "      <th>54924</th>\n",
       "      <td>Sim</td>\n",
       "      <td>1872.0</td>\n",
       "    </tr>\n",
       "    <tr>\n",
       "      <th>57087</th>\n",
       "      <td>Não</td>\n",
       "      <td>1872.0</td>\n",
       "    </tr>\n",
       "  </tbody>\n",
       "</table>\n",
       "</div>"
      ],
      "text/plain": [
       "       Acesso a Internet por Sinal de Rede Celular 3G ou 4G  \\\n",
       "98834                                                 Sim     \n",
       "3667                                                  Sim     \n",
       "145524                                                Não     \n",
       "127325                                                Não     \n",
       "140768                                                Sim     \n",
       "83683                                                 Não     \n",
       "92049                                                 Não     \n",
       "129433                                                Não     \n",
       "54924                                                 Sim     \n",
       "57087                                                 Não     \n",
       "\n",
       "        Rendimento mensal domiciliar per capita  \n",
       "98834                                    1869.0  \n",
       "3667                                     1869.0  \n",
       "145524                                   1869.0  \n",
       "127325                                   1869.0  \n",
       "140768                                   1870.0  \n",
       "83683                                    1871.0  \n",
       "92049                                    1871.0  \n",
       "129433                                   1871.0  \n",
       "54924                                    1872.0  \n",
       "57087                                    1872.0  "
      ]
     },
     "execution_count": 45,
     "metadata": {},
     "output_type": "execute_result"
    }
   ],
   "source": [
    "dados_2013.V02424 = dados_2013.V02424.astype('category')\n",
    "dados_2013.V02424.cat.categories = ('Sim','Não')\n",
    "tab_banda = dados_2013.iloc[1:,[55,77]]\n",
    "tb = tab_banda.rename(columns={\"V02424\":\"Acesso a Internet por Sinal de Rede Celular 3G ou 4G\"})\n",
    "DADOSOFF=tb.dropna(0,how='any')\n",
    "dadosoff=DADOSOFF[DADOSOFF.V4621<1874]\n",
    "tb = dadosoff.rename(columns={\"V4621\":\"Rendimento mensal domiciliar per capita\"})\n",
    "dados_13=tb.dropna(0,how='any')\n",
    "dfc = dados_2013.V02424.value_counts()\n",
    "print(\"Acesso a Internet por Sinal de Rede Celular 3G ou 4G em 2013\")\n",
    "dados_13.sort_values(by=\"Rendimento mensal domiciliar per capita\").tail(10)"
   ]
  },
  {
   "cell_type": "code",
   "execution_count": 46,
   "metadata": {},
   "outputs": [
    {
     "name": "stdout",
     "output_type": "stream",
     "text": [
      "Acesso a Internet por Sinal de Rede Celular 3G ou 4G em 2014\n"
     ]
    },
    {
     "data": {
      "text/html": [
       "<div>\n",
       "<table border=\"1\" class=\"dataframe\">\n",
       "  <thead>\n",
       "    <tr style=\"text-align: right;\">\n",
       "      <th></th>\n",
       "      <th>Acesso a Internet por Sinal de Rede Celular 3G ou 4G</th>\n",
       "      <th>Rendimento mensal domiciliar per capita</th>\n",
       "    </tr>\n",
       "  </thead>\n",
       "  <tbody>\n",
       "    <tr>\n",
       "      <th>121960</th>\n",
       "      <td>Não</td>\n",
       "      <td>1866.0</td>\n",
       "    </tr>\n",
       "    <tr>\n",
       "      <th>109906</th>\n",
       "      <td>Sim</td>\n",
       "      <td>1866.0</td>\n",
       "    </tr>\n",
       "    <tr>\n",
       "      <th>4995</th>\n",
       "      <td>Sim</td>\n",
       "      <td>1866.0</td>\n",
       "    </tr>\n",
       "    <tr>\n",
       "      <th>26287</th>\n",
       "      <td>Sim</td>\n",
       "      <td>1867.0</td>\n",
       "    </tr>\n",
       "    <tr>\n",
       "      <th>78089</th>\n",
       "      <td>Não</td>\n",
       "      <td>1869.0</td>\n",
       "    </tr>\n",
       "    <tr>\n",
       "      <th>21100</th>\n",
       "      <td>Não</td>\n",
       "      <td>1870.0</td>\n",
       "    </tr>\n",
       "    <tr>\n",
       "      <th>116572</th>\n",
       "      <td>Não</td>\n",
       "      <td>1870.0</td>\n",
       "    </tr>\n",
       "    <tr>\n",
       "      <th>45852</th>\n",
       "      <td>Sim</td>\n",
       "      <td>1870.0</td>\n",
       "    </tr>\n",
       "    <tr>\n",
       "      <th>125463</th>\n",
       "      <td>Não</td>\n",
       "      <td>1870.0</td>\n",
       "    </tr>\n",
       "    <tr>\n",
       "      <th>53398</th>\n",
       "      <td>Sim</td>\n",
       "      <td>1872.0</td>\n",
       "    </tr>\n",
       "  </tbody>\n",
       "</table>\n",
       "</div>"
      ],
      "text/plain": [
       "       Acesso a Internet por Sinal de Rede Celular 3G ou 4G  \\\n",
       "121960                                                Não     \n",
       "109906                                                Sim     \n",
       "4995                                                  Sim     \n",
       "26287                                                 Sim     \n",
       "78089                                                 Não     \n",
       "21100                                                 Não     \n",
       "116572                                                Não     \n",
       "45852                                                 Sim     \n",
       "125463                                                Não     \n",
       "53398                                                 Sim     \n",
       "\n",
       "        Rendimento mensal domiciliar per capita  \n",
       "121960                                   1866.0  \n",
       "109906                                   1866.0  \n",
       "4995                                     1866.0  \n",
       "26287                                    1867.0  \n",
       "78089                                    1869.0  \n",
       "21100                                    1870.0  \n",
       "116572                                   1870.0  \n",
       "45852                                    1870.0  \n",
       "125463                                   1870.0  \n",
       "53398                                    1872.0  "
      ]
     },
     "execution_count": 46,
     "metadata": {},
     "output_type": "execute_result"
    }
   ],
   "source": [
    "dados_2014.V02424 = dados_2014.V02424.astype('category')\n",
    "dados_2014.V02424.cat.categories = ('Sim','Não')\n",
    "tab_banda = dados_2014.iloc[1:,[55,77]]\n",
    "tb = tab_banda.rename(columns={\"V02424\":\"Acesso a Internet por Sinal de Rede Celular 3G ou 4G\"})\n",
    "DADOSOFF=tb.dropna(0,how='any')\n",
    "dadosoff=DADOSOFF[DADOSOFF.V4621<1874]\n",
    "tb = dadosoff.rename(columns={\"V4621\":\"Rendimento mensal domiciliar per capita\"})\n",
    "dados_14=tb.dropna(0,how='any')\n",
    "dfc2 = dados_2014.V02424.value_counts()\n",
    "print(\"Acesso a Internet por Sinal de Rede Celular 3G ou 4G em 2014\")\n",
    "dados_14.sort_values(by=\"Rendimento mensal domiciliar per capita\").tail(10)"
   ]
  },
  {
   "cell_type": "code",
   "execution_count": 47,
   "metadata": {},
   "outputs": [
    {
     "name": "stdout",
     "output_type": "stream",
     "text": [
      "Acesso a Internet por Sinal de Rede Celular 3G ou 4G em 2015\n"
     ]
    },
    {
     "data": {
      "text/html": [
       "<div>\n",
       "<table border=\"1\" class=\"dataframe\">\n",
       "  <thead>\n",
       "    <tr style=\"text-align: right;\">\n",
       "      <th></th>\n",
       "      <th>Acesso a Internet por Sinal de Rede Celular 3G ou 4G</th>\n",
       "      <th>Rendimento mensal domiciliar per capita</th>\n",
       "    </tr>\n",
       "  </thead>\n",
       "  <tbody>\n",
       "    <tr>\n",
       "      <th>70892</th>\n",
       "      <td>Sim</td>\n",
       "      <td>1867.0</td>\n",
       "    </tr>\n",
       "    <tr>\n",
       "      <th>97435</th>\n",
       "      <td>Sim</td>\n",
       "      <td>1868.0</td>\n",
       "    </tr>\n",
       "    <tr>\n",
       "      <th>72331</th>\n",
       "      <td>Não</td>\n",
       "      <td>1869.0</td>\n",
       "    </tr>\n",
       "    <tr>\n",
       "      <th>123050</th>\n",
       "      <td>Não</td>\n",
       "      <td>1869.0</td>\n",
       "    </tr>\n",
       "    <tr>\n",
       "      <th>32232</th>\n",
       "      <td>Não</td>\n",
       "      <td>1870.0</td>\n",
       "    </tr>\n",
       "    <tr>\n",
       "      <th>124061</th>\n",
       "      <td>Não</td>\n",
       "      <td>1870.0</td>\n",
       "    </tr>\n",
       "    <tr>\n",
       "      <th>121652</th>\n",
       "      <td>Não</td>\n",
       "      <td>1872.0</td>\n",
       "    </tr>\n",
       "    <tr>\n",
       "      <th>91219</th>\n",
       "      <td>Sim</td>\n",
       "      <td>1872.0</td>\n",
       "    </tr>\n",
       "    <tr>\n",
       "      <th>24498</th>\n",
       "      <td>Sim</td>\n",
       "      <td>1872.0</td>\n",
       "    </tr>\n",
       "    <tr>\n",
       "      <th>56742</th>\n",
       "      <td>Não</td>\n",
       "      <td>1873.0</td>\n",
       "    </tr>\n",
       "  </tbody>\n",
       "</table>\n",
       "</div>"
      ],
      "text/plain": [
       "       Acesso a Internet por Sinal de Rede Celular 3G ou 4G  \\\n",
       "70892                                                 Sim     \n",
       "97435                                                 Sim     \n",
       "72331                                                 Não     \n",
       "123050                                                Não     \n",
       "32232                                                 Não     \n",
       "124061                                                Não     \n",
       "121652                                                Não     \n",
       "91219                                                 Sim     \n",
       "24498                                                 Sim     \n",
       "56742                                                 Não     \n",
       "\n",
       "        Rendimento mensal domiciliar per capita  \n",
       "70892                                    1867.0  \n",
       "97435                                    1868.0  \n",
       "72331                                    1869.0  \n",
       "123050                                   1869.0  \n",
       "32232                                    1870.0  \n",
       "124061                                   1870.0  \n",
       "121652                                   1872.0  \n",
       "91219                                    1872.0  \n",
       "24498                                    1872.0  \n",
       "56742                                    1873.0  "
      ]
     },
     "execution_count": 47,
     "metadata": {},
     "output_type": "execute_result"
    }
   ],
   "source": [
    "dados_2015.V02424 = dados_2015.V02424.astype('category')\n",
    "dados_2015.V02424.cat.categories = ('Sim','Não')\n",
    "tab_banda = dados_2015.iloc[1:,[55,77]]\n",
    "tb = tab_banda.rename(columns={\"V02424\":\"Acesso a Internet por Sinal de Rede Celular 3G ou 4G\"})\n",
    "DADOSOFF=tb.dropna(0,how='any')\n",
    "dadosoff=DADOSOFF[DADOSOFF.V4621<1874]\n",
    "tb = dadosoff.rename(columns={\"V4621\":\"Rendimento mensal domiciliar per capita\"})\n",
    "dados_15=tb.dropna(0,how='any')\n",
    "dfc3 = dados_2015.V02424.value_counts()\n",
    "print(\"Acesso a Internet por Sinal de Rede Celular 3G ou 4G em 2015\")\n",
    "dados_15.sort_values(by=\"Rendimento mensal domiciliar per capita\").tail(10)"
   ]
  },
  {
   "cell_type": "code",
   "execution_count": 35,
   "metadata": {},
   "outputs": [
    {
     "data": {
      "image/png": "[encoded data removed]",
      "text/plain": [
       "<matplotlib.figure.Figure at 0x1ff81ed1a90>"
      ]
     },
     "metadata": {},
     "output_type": "display_data"
    }
   ],
   "source": [
    "fig = plt.figure(figsize=(15, 5))\n",
    "plt.subplot(131)\n",
    "dfc.plot(kind='pie', colors=('red', 'blue'), autopct=\"%0.2f\",legend=False, title='Acesso a Internet por Sinal 3G ou 4G 2013(%)')\n",
    "plt.ylabel('')\n",
    "plt.xlabel('')\n",
    "\n",
    "plt.subplot(132)\n",
    "dfc2.plot(kind='pie', colors=('blue', 'red'), autopct=\"%0.2f\",legend=False, title='Acesso a Internet por Sinal 3G ou 4G 2014(%)')\n",
    "plt.ylabel('')\n",
    "plt.xlabel('')\n",
    "\n",
    "plt.subplot(133)\n",
    "dfc3.plot(kind='pie', colors=('blue', 'red'), autopct=\"%0.2f\",legend=False, title='Acesso a Internet por Sinal 3G ou 4G 2015(%)')\n",
    "plt.ylabel('')\n",
    "plt.xlabel('')\n",
    "\n",
    "plt.tight_layout()\n",
    "plt.show()"
   ]
  },
  {
   "cell_type": "markdown",
   "metadata": {},
   "source": [
    "Com os gráficos acima podemos ver o que é, dos 3 tipos de acesso, a maior variação da porcentagem de pessoas que utilizam esse o serviço em questão. O acesso aos serviços de redes de 3g/4g saltou quase 25% em apenas 2 anos (de 2013 para 2015, foi de 46,29% para 65,19% e depois foi para 70,88% em 2015)."
   ]
  },
  {
   "cell_type": "markdown",
   "metadata": {},
   "source": [
    "___\n",
    "## Conclusão "
   ]
  },
  {
   "cell_type": "markdown",
   "metadata": {
    "collapsed": true
   },
   "source": [
    "A população mais pobre, normalmente, é a que mais demora a ter acesso a novas tecnologias e, portanto, a que mais demora a substituir tecnologias ja ultrapassadas. Através dos gráficos que mostram a evolução do uso de certas tecnologias de acesso a internet, deu pra perceber que, por mais que ainda tenha uma pequena porcentagem de usuários, o acesso a internet através de conexão discada já está quase extinto da vida da população mais pobre. \n",
    "O que talvez seja uma surpresa, é a, pequena(5%), porém, diminuição da porcentagem de usuários que utilizam a internet via banda larga. Esta é uma das pricipais e mais baratas vias de acesso a internet hoje em dia, porém, parece que algumas pessoas, que possuaem planos de 3g/4g, estão opitando por ficar apenas esse plano e não ter internet via banda larga, provavelmente por diminuição de gastos. \n",
    "O que demonstrou a maior variação dentre os 3 tipos de acesso foi a conexão via rede 3g/4g. Com o aumento da distribuição da rede pelo Brasil e a diminuição dos preços dos planos nos últimos anos, aumentou a acessibilidade a esse serviço de acesso a internet. Essa grande evolução nos mostra também o valorização do mercado de smartphone em terras brasileiras que vem apliando seu mercado com celulares mais acesíveis a população mais pobre."
   ]
  },
  {
   "cell_type": "code",
   "execution_count": null,
   "metadata": {
    "collapsed": true
   },
   "outputs": [],
   "source": []
  }
 ],
 "metadata": {
  "anaconda-cloud": {},
  "kernelspec": {
   "display_name": "Python 3",
   "language": "python",
   "name": "python3"
  },
  "language_info": {
   "codemirror_mode": {
    "name": "ipython",
    "version": 3
   },
   "file_extension": ".py",
   "mimetype": "text/x-python",
   "name": "python",
   "nbconvert_exporter": "python",
   "pygments_lexer": "ipython3",
   "version": "3.6.0"
  }
 },
 "nbformat": 4,
 "nbformat_minor": 1
}
